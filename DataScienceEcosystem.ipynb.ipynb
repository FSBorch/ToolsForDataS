{
 "cells": [
  {
   "cell_type": "markdown",
   "id": "3b38eab6-8f14-4716-a87b-1ba2ae2cfce9",
   "metadata": {
    "tags": []
   },
   "source": [
    "# Data Science Tools and Ecosystem"
   ]
  },
  {
   "cell_type": "markdown",
   "id": "f4f4f267-9bcb-48d9-b7a4-a06a4bbdbeef",
   "metadata": {
    "tags": []
   },
   "source": [
    "## Author\n",
    "Frederik Borch"
   ]
  },
  {
   "cell_type": "markdown",
   "id": "832ac20a-2cbf-4a2e-a74b-2b367c343092",
   "metadata": {},
   "source": [
    "In this notebook, Data Science Tools and Ecosystem are summarized."
   ]
  },
  {
   "cell_type": "markdown",
   "id": "0b2f842f-c4a3-46ec-a057-949c6426eaad",
   "metadata": {},
   "source": [
    "**Objectives:**"
   ]
  },
  {
   "cell_type": "markdown",
   "id": "e905fd0c-8dc3-4359-bb4d-43fa9534d96f",
   "metadata": {},
   "source": [
    "- List popular languages for Data Science\n",
    "- Create a markdown cell to list data science languages\n",
    "- Create a markdown cell introducing arithmetic expression examples"
   ]
  },
  {
   "cell_type": "markdown",
   "id": "7f03d9cf-1544-458d-b04b-e30b684bec60",
   "metadata": {
    "tags": []
   },
   "source": [
    "##### Some of the popular languages that Data Scientists use are:"
   ]
  },
  {
   "cell_type": "markdown",
   "id": "ba75afd5-5dde-4945-a02c-3c592472383e",
   "metadata": {},
   "source": [
    "1. Python\n",
    "2. SQL\n",
    "3. R"
   ]
  },
  {
   "cell_type": "markdown",
   "id": "4b5f656b-794d-42e1-9415-0b5e5266ea4c",
   "metadata": {},
   "source": [
    "##### Some of the commonly used libraries used by Data Scientists include:"
   ]
  },
  {
   "cell_type": "markdown",
   "id": "cd6119f2-fae2-4594-a7d3-1b03e900d60a",
   "metadata": {},
   "source": [
    "1. Pandas\n",
    "2. NumPy\n",
    "3. GitHub"
   ]
  },
  {
   "cell_type": "markdown",
   "id": "9d3d0d56-72c7-4e62-b796-c4000f9871a3",
   "metadata": {},
   "source": [
    "|Data Science Tools|\n",
    "|---|\n",
    "|Jupyter|\n",
    "|AWS|\n",
    "|PyCharm|"
   ]
  },
  {
   "cell_type": "markdown",
   "id": "73761108-7d24-4382-bd98-f4a23ee4b3d3",
   "metadata": {},
   "source": [
    "### Below are a few examples of evaluating arithmetic expressions in Python"
   ]
  },
  {
   "cell_type": "code",
   "execution_count": 2,
   "id": "d35565cc-0fcd-48c9-b488-b4552d0bfcf4",
   "metadata": {
    "tags": []
   },
   "outputs": [],
   "source": [
    "#This a simple arithmetic expression to mutiply then add integers"
   ]
  },
  {
   "cell_type": "code",
   "execution_count": 3,
   "id": "f48df6a4-611c-4ede-bef3-5ebc610e3285",
   "metadata": {
    "tags": []
   },
   "outputs": [
    {
     "data": {
      "text/plain": [
       "17"
      ]
     },
     "execution_count": 3,
     "metadata": {},
     "output_type": "execute_result"
    }
   ],
   "source": [
    "(3*4)+5"
   ]
  },
  {
   "cell_type": "code",
   "execution_count": null,
   "id": "028f942e-4f91-45f0-bdeb-e30aab2dd9fa",
   "metadata": {},
   "outputs": [],
   "source": [
    "#This will convert 200 minutes to hours by diving by 60"
   ]
  },
  {
   "cell_type": "code",
   "execution_count": 4,
   "id": "4751a310-dd9e-4d88-b2ad-9e1059e27e7b",
   "metadata": {
    "tags": []
   },
   "outputs": [
    {
     "data": {
      "text/plain": [
       "3.3333333333333335"
      ]
     },
     "execution_count": 4,
     "metadata": {},
     "output_type": "execute_result"
    }
   ],
   "source": [
    "200/60"
   ]
  },
  {
   "cell_type": "code",
   "execution_count": null,
   "id": "9f97a654-99df-4441-a55f-96d8afaef8d1",
   "metadata": {},
   "outputs": [],
   "source": []
  }
 ],
 "metadata": {
  "kernelspec": {
   "display_name": "Python",
   "language": "python",
   "name": "conda-env-python-py"
  },
  "language_info": {
   "codemirror_mode": {
    "name": "ipython",
    "version": 3
   },
   "file_extension": ".py",
   "mimetype": "text/x-python",
   "name": "python",
   "nbconvert_exporter": "python",
   "pygments_lexer": "ipython3",
   "version": "3.7.12"
  }
 },
 "nbformat": 4,
 "nbformat_minor": 5
}
